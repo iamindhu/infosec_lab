{
  "nbformat": 4,
  "nbformat_minor": 0,
  "metadata": {
    "colab": {
      "name": "191IT207_IT352_P5.ipynb",
      "provenance": [],
      "collapsed_sections": []
    },
    "kernelspec": {
      "name": "python3",
      "display_name": "Python 3"
    },
    "language_info": {
      "name": "python"
    }
  },
  "cells": [
    {
      "cell_type": "code",
      "source": [
        "import math"
      ],
      "metadata": {
        "id": "uIlVkghGWAg4"
      },
      "execution_count": 29,
      "outputs": []
    },
    {
      "cell_type": "code",
      "execution_count": 30,
      "metadata": {
        "id": "GXf2hLNdQVAg"
      },
      "outputs": [],
      "source": [
        "EXPANSION_TABLE = [32,1,2,3,4,5,\n",
        "                   4,5,6,7,8,9,8,\n",
        "                   9,10,11,12,13,\n",
        "                   12,13,14,15,16,17,\n",
        "                   16,17,18,19,20,21,\n",
        "                   20,21,22,23,24,25,\n",
        "                   24,25,26,27,28,29,\n",
        "                   28,29,30,31,32,1] # Expansion table"
      ]
    },
    {
      "cell_type": "code",
      "source": [
        "def split_bits(str, n): # Splits input string into chunks of n\n",
        "    chunks = [str[i:i+n] for i in range(0, len(str), n)]\n",
        "    return chunks"
      ],
      "metadata": {
        "id": "5EwCFDeiR3s2"
      },
      "execution_count": 2,
      "outputs": []
    },
    {
      "cell_type": "code",
      "source": [
        "def apply_Expansion(expansion_table,bits32): # Applies expansion operation\n",
        "\t\"\"\" This will take expansion table and 32-bit binary string as input and output a 48-bit binary stirng\"\"\"\n",
        "\tbits48 = \"\"\n",
        "\tfor index in expansion_table:\n",
        "\t\tbits48 += bits32[index-1]\n",
        "\treturn bits48"
      ],
      "metadata": {
        "id": "EABKQWAbQsai"
      },
      "execution_count": 3,
      "outputs": []
    },
    {
      "cell_type": "code",
      "source": [
        "def binaryTextProcessing(binaryText): # Padding for chunks that is less than 64 bits\n",
        "  num_blocks = math.ceil(len(binaryText)/64)\n",
        "  if num_blocks%64 !=0:\n",
        "    binaryText = binaryText.ljust(num_blocks * 64,'0')\n",
        "  return binaryText"
      ],
      "metadata": {
        "id": "4MO-tUizXgQL"
      },
      "execution_count": 46,
      "outputs": []
    },
    {
      "cell_type": "code",
      "source": [
        "def ascii_to_bin(ascii_string): # converts ascii string to binary string\n",
        "  return \"\".join([format(ord(char),'#010b')[2:] for char in ascii_string])"
      ],
      "metadata": {
        "id": "nYIJ_y5DQvXk"
      },
      "execution_count": 47,
      "outputs": []
    },
    {
      "cell_type": "code",
      "source": [
        "def process(input_string, outFileName):\n",
        "  txtfile = open(outFileName,\"w\")\n",
        "  binary_string = ascii_to_bin(input_string)\n",
        "  binary_string = binaryTextProcessing(binary_string)\n",
        "  chunks = split_bits(binary_string, 64) # divide into chuks of 64 bits\n",
        "  for chunk in chunks: \n",
        "    txtfile.write(chunk)\n",
        "    txtfile.write(\"\\n\")\n",
        "    print(chunk)\n",
        "  sub_blocks = split_bits(chunks[0], 32) # left and right sublocks\n",
        "  expansion_right = apply_Expansion(EXPANSION_TABLE, sub_blocks[1])\n",
        "  txtfile.write(\"Output of Expansion Permutation Box Operation: \\n\")\n",
        "  txtfile.write(expansion_right)\n",
        "  txtfile.write(\"\\n\")\n",
        "  print(\"Output of Expansion Permutation Box Operation:\", expansion_right)"
      ],
      "metadata": {
        "id": "-rA_SvgmUtPU"
      },
      "execution_count": 48,
      "outputs": []
    },
    {
      "cell_type": "code",
      "source": [
        "process(\"nitk-surathkal\", \"SampleTestCase-1\")"
      ],
      "metadata": {
        "colab": {
          "base_uri": "https://localhost:8080/"
        },
        "id": "cE0hxidiXCRc",
        "outputId": "4ad4135d-919b-4f4d-9aa4-bfa1711c2af4"
      },
      "execution_count": 57,
      "outputs": [
        {
          "output_type": "stream",
          "name": "stdout",
          "text": [
            "0110111001101001011101000110101100101101011100110111010101110010\n",
            "0110000101110100011010000110101101100001011011000000000000000000\n",
            "Output of Expansion Permutation Box Operation: 000101011010101110100110101110101010101110100100\n"
          ]
        }
      ]
    },
    {
      "cell_type": "code",
      "source": [
        "process(\"Surathkal-575025\", \"SampleTestCase-2\")"
      ],
      "metadata": {
        "colab": {
          "base_uri": "https://localhost:8080/"
        },
        "id": "eap_Ih6NXMrd",
        "outputId": "461ddeab-7373-44b5-df15-256eb7b440b7"
      },
      "execution_count": 58,
      "outputs": [
        {
          "output_type": "stream",
          "name": "stdout",
          "text": [
            "0101001101110101011100100110000101110100011010000110101101100001\n",
            "0110110000101101001101010011011100110101001100000011001000110101\n",
            "Output of Expansion Permutation Box Operation: 101110101000001101010000001101010110101100000010\n"
          ]
        }
      ]
    },
    {
      "cell_type": "code",
      "source": [
        "process(\"Bangalore\", \"191IT207_IT352_P5_Output_TC1.txt\")"
      ],
      "metadata": {
        "id": "gpL-r1UUXlTl",
        "colab": {
          "base_uri": "https://localhost:8080/"
        },
        "outputId": "f01bfa06-7895-40af-f72b-7e22ce236a18"
      },
      "execution_count": 51,
      "outputs": [
        {
          "output_type": "stream",
          "name": "stdout",
          "text": [
            "0100001001100001011011100110011101100001011011000110111101110010\n",
            "0110010100000000000000000000000000000000000000000000000000000000\n",
            "Output of Expansion Permutation Box Operation: 001100000010101101011000001101011110101110100100\n"
          ]
        }
      ]
    },
    {
      "cell_type": "code",
      "source": [
        "process(\"Surathkal\", \"191IT207_IT352_P5_Output_TC2.txt\")"
      ],
      "metadata": {
        "id": "P1U5vBOOXxwx",
        "colab": {
          "base_uri": "https://localhost:8080/"
        },
        "outputId": "87d48af1-afe7-42f0-bb6d-d2a95a5b55bc"
      },
      "execution_count": 52,
      "outputs": [
        {
          "output_type": "stream",
          "name": "stdout",
          "text": [
            "0101001101110101011100100110000101110100011010000110101101100001\n",
            "0110110000000000000000000000000000000000000000000000000000000000\n",
            "Output of Expansion Permutation Box Operation: 101110101000001101010000001101010110101100000010\n"
          ]
        }
      ]
    },
    {
      "cell_type": "code",
      "source": [
        "process(\"Mysore\", \"191IT207_IT352_P5_Output_TC3.txt\")"
      ],
      "metadata": {
        "id": "9EvoP78WXybL",
        "colab": {
          "base_uri": "https://localhost:8080/"
        },
        "outputId": "25f4e65a-8dfe-4a2d-af82-be16a3e3e1ba"
      },
      "execution_count": 53,
      "outputs": [
        {
          "output_type": "stream",
          "name": "stdout",
          "text": [
            "0100110101111001011100110110111101110010011001010000000000000000\n",
            "Output of Expansion Permutation Box Operation: 001110100100001100001010100000000000000000000000\n"
          ]
        }
      ]
    },
    {
      "cell_type": "code",
      "source": [
        "process(\"Delhi\", \"191IT207_IT352_P5_Output_TC4.txt\")"
      ],
      "metadata": {
        "id": "tn94_ma5Xy0_",
        "colab": {
          "base_uri": "https://localhost:8080/"
        },
        "outputId": "bafccdee-142e-4bc0-dbc6-6a6f54e113c8"
      },
      "execution_count": 54,
      "outputs": [
        {
          "output_type": "stream",
          "name": "stdout",
          "text": [
            "0100010001100101011011000110100001101001000000000000000000000000\n",
            "Output of Expansion Permutation Box Operation: 001101010010100000000000000000000000000000000000\n"
          ]
        }
      ]
    },
    {
      "cell_type": "code",
      "source": [
        "process(\"Panjab\", \"191IT207_IT352_P5_Output_TC5.txt\")"
      ],
      "metadata": {
        "id": "vT1UOiKZX42d",
        "colab": {
          "base_uri": "https://localhost:8080/"
        },
        "outputId": "28e6b617-ecbd-4c5f-be13-02e6ef250355"
      },
      "execution_count": 55,
      "outputs": [
        {
          "output_type": "stream",
          "name": "stdout",
          "text": [
            "0101000001100001011011100110101001100001011000100000000000000000\n",
            "Output of Expansion Permutation Box Operation: 001100000010101100000100000000000000000000000000\n"
          ]
        }
      ]
    },
    {
      "cell_type": "code",
      "source": [
        "process(\"Varanasi\", \"191IT207_IT352_P5_Output_TC6.txt\")"
      ],
      "metadata": {
        "colab": {
          "base_uri": "https://localhost:8080/"
        },
        "id": "IBdP9Q27TCxs",
        "outputId": "793878b8-38eb-4413-e9db-1071b2ad20d6"
      },
      "execution_count": 56,
      "outputs": [
        {
          "output_type": "stream",
          "name": "stdout",
          "text": [
            "0101011001100001011100100110000101101110011000010111001101101001\n",
            "Output of Expansion Permutation Box Operation: 101101011100001100000010101110100110101101010010\n"
          ]
        }
      ]
    }
  ]
}