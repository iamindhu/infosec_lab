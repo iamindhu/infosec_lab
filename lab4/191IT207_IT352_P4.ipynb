{
  "nbformat": 4,
  "nbformat_minor": 0,
  "metadata": {
    "colab": {
      "name": "191IT207_IT352_P4.ipynb",
      "provenance": [],
      "collapsed_sections": []
    },
    "kernelspec": {
      "name": "python3",
      "display_name": "Python 3"
    },
    "language_info": {
      "name": "python"
    }
  },
  "cells": [
    {
      "cell_type": "code",
      "source": [
        "def encrypt(plain_text):\n",
        "  index = 0\n",
        "  cipher_text = \"\"\n",
        "  while index < len(plain_text):\n",
        "    cipher_text = cipher_text + plain_text[index]\n",
        "    index = index + 2\n",
        "  index = 1\n",
        "  while index < len(plain_text):\n",
        "    cipher_text = cipher_text + plain_text[index]\n",
        "    index = index + 2\n",
        "  return cipher_text"
      ],
      "metadata": {
        "id": "LyAmv608IEaN"
      },
      "execution_count": 1,
      "outputs": []
    },
    {
      "cell_type": "code",
      "source": [
        "def decrypt(cipher_text):\n",
        "  offset = int((len(cipher_text)+1)/2)\n",
        "  isValid = True\n",
        "  index = 0\n",
        "  plain_text = \"\"\n",
        "  while isValid & (index < offset):\n",
        "    plain_text = plain_text + cipher_text[index]\n",
        "    if index + offset < len(cipher_text):\n",
        "      plain_text = plain_text + cipher_text[index + offset]\n",
        "    else:\n",
        "      isValid = False\n",
        "    index = index + 1\n",
        "  return plain_text"
      ],
      "metadata": {
        "id": "otAe2asfJrJ5"
      },
      "execution_count": 2,
      "outputs": []
    },
    {
      "cell_type": "code",
      "source": [
        "def checkValidity(plain_text):\n",
        "  for ch in plain_text:\n",
        "    if ((ch >= \"a\") & (ch <= \"z\")) | ((ch >= \"A\") & (ch <= \"Z\")) | (ch == \" \"):\n",
        "      continue\n",
        "    else:\n",
        "      return False\n",
        "  return True"
      ],
      "metadata": {
        "id": "UH0Oao2-QlUR"
      },
      "execution_count": 5,
      "outputs": []
    },
    {
      "cell_type": "code",
      "source": [
        "def encrypt_and_decrypt(plaintext, outFileName):\n",
        "  txtfile = open(outFileName,\"w\")\n",
        "  plaintext_remove_spaces = plaintext.replace(\" \", \"\")\n",
        "  if checkValidity(plaintext):\n",
        "    plain_to_encrypted = encrypt(plaintext_remove_spaces)\n",
        "    encrypted_to_plain = decrypt(plain_to_encrypted)\n",
        "    print(\"********* ENCRYPTION *********\")\n",
        "    print(\"\\n\")\n",
        "    print(\"Plain text: \", plaintext)\n",
        "    print(\"Cipher text: \", plain_to_encrypted.upper())\n",
        "    print(\"\\n\")\n",
        "    print(\"********* DECRYPTION *********\")\n",
        "    print(\"\\n\")\n",
        "    print(\"Cipher text: \", plain_to_encrypted.upper())\n",
        "    print(\"Plain text: \", encrypted_to_plain)\n",
        "    txtfile.write(\"********* ENCRYPTION *********\")\n",
        "    txtfile.write(\"\\n\\n\")\n",
        "    txtfile.write(\"Plain text: \" + plaintext)\n",
        "    txtfile.write(\"\\n\")\n",
        "    txtfile.write(\"Cipher text: \" + plain_to_encrypted.upper())\n",
        "    txtfile.write(\"\\n\\n\")\n",
        "    txtfile.write(\"********* DECRYPTION *********\")\n",
        "    txtfile.write(\"\\n\\n\")\n",
        "    txtfile.write(\"Cipher text: \" +  plain_to_encrypted.upper())\n",
        "    txtfile.write(\"\\n\")\n",
        "    txtfile.write(\"Plain text: \" + encrypted_to_plain)\n",
        "  else:\n",
        "    txtfile.write(\"********* ERROR *********\")\n",
        "    txtfile.write(\"Plaintext contains non alphabetic characters\")\n",
        "    txtfile.write(\"********* ERROR *********\")\n",
        "    txtfile.write(\"Plaintext contains non alphabetic characters\")"
      ],
      "metadata": {
        "id": "mjdiUHCQSSID"
      },
      "execution_count": 35,
      "outputs": []
    },
    {
      "cell_type": "code",
      "source": [
        "encrypt_and_decrypt(\"capital city of karnataka\", \"191IT207_IT352_P4_Output_TC1.txt\")"
      ],
      "metadata": {
        "colab": {
          "base_uri": "https://localhost:8080/"
        },
        "id": "QhTxItUXwmqs",
        "outputId": "11856818-5c8c-4c72-f6a3-95c061e7cdab"
      },
      "execution_count": 36,
      "outputs": [
        {
          "output_type": "stream",
          "name": "stdout",
          "text": [
            "********* ENCRYPTION *********\n",
            "\n",
            "\n",
            "Plain text:  capital city of karnataka\n",
            "Cipher text:  CPTLIYFANTKAIACTOKRAAA\n",
            "\n",
            "\n",
            "********* DECRYPTION *********\n",
            "\n",
            "\n",
            "Cipher text:  CPTLIYFANTKAIACTOKRAAA\n",
            "Plain text:  capitalcityofkarnataka\n"
          ]
        }
      ]
    },
    {
      "cell_type": "code",
      "source": [
        "encrypt_and_decrypt(\"tamilnadu state\", \"191IT207_IT352_P4_Output_TC2.txt\")"
      ],
      "metadata": {
        "colab": {
          "base_uri": "https://localhost:8080/"
        },
        "id": "VPAOyhzWwswr",
        "outputId": "f72e3f8c-0680-4b89-8c75-790591cb76ae"
      },
      "execution_count": 37,
      "outputs": [
        {
          "output_type": "stream",
          "name": "stdout",
          "text": [
            "********* ENCRYPTION *********\n",
            "\n",
            "\n",
            "Plain text:  tamilnadu state\n",
            "Cipher text:  TMLAUTTAINDSAE\n",
            "\n",
            "\n",
            "********* DECRYPTION *********\n",
            "\n",
            "\n",
            "Cipher text:  TMLAUTTAINDSAE\n",
            "Plain text:  tamilnadustate\n"
          ]
        }
      ]
    },
    {
      "cell_type": "code",
      "source": [
        "encrypt_and_decrypt(\"ransomware attack\", \"191IT207_IT352_P4_Output_TC3.txt\")"
      ],
      "metadata": {
        "colab": {
          "base_uri": "https://localhost:8080/"
        },
        "id": "fc0tvO7F32b0",
        "outputId": "1a17b923-3543-4574-ec6e-61e7713c6a66"
      },
      "execution_count": 38,
      "outputs": [
        {
          "output_type": "stream",
          "name": "stdout",
          "text": [
            "********* ENCRYPTION *********\n",
            "\n",
            "\n",
            "Plain text:  ransomware attack\n",
            "Cipher text:  RNOWRATCASMAETAK\n",
            "\n",
            "\n",
            "********* DECRYPTION *********\n",
            "\n",
            "\n",
            "Cipher text:  RNOWRATCASMAETAK\n",
            "Plain text:  ransomwareattack\n"
          ]
        }
      ]
    },
    {
      "cell_type": "code",
      "source": [
        "encrypt_and_decrypt(\"password guessing attack\", \"191IT207_IT352_P4_Output_TC4.txt\")"
      ],
      "metadata": {
        "colab": {
          "base_uri": "https://localhost:8080/"
        },
        "id": "KAkVXMd74ArF",
        "outputId": "c00610c2-a37e-4821-9d3f-6ac27b847d0d"
      },
      "execution_count": 39,
      "outputs": [
        {
          "output_type": "stream",
          "name": "stdout",
          "text": [
            "********* ENCRYPTION *********\n",
            "\n",
            "\n",
            "Plain text:  password guessing attack\n",
            "Cipher text:  PSWRGESNATCASODUSIGTAK\n",
            "\n",
            "\n",
            "********* DECRYPTION *********\n",
            "\n",
            "\n",
            "Cipher text:  PSWRGESNATCASODUSIGTAK\n",
            "Plain text:  passwordguessingattack\n"
          ]
        }
      ]
    },
    {
      "cell_type": "code",
      "source": [
        "encrypt_and_decrypt(\"cyber security\", \"191IT207_IT352_P4_Output_TC5.txt\")"
      ],
      "metadata": {
        "colab": {
          "base_uri": "https://localhost:8080/"
        },
        "id": "API8hznb4FOa",
        "outputId": "f361fff7-539b-4c52-95d6-cd3ca48b606b"
      },
      "execution_count": 43,
      "outputs": [
        {
          "output_type": "stream",
          "name": "stdout",
          "text": [
            "********* ENCRYPTION *********\n",
            "\n",
            "\n",
            "Plain text:  cyber security\n",
            "Cipher text:  CBREUIYYESCRT\n",
            "\n",
            "\n",
            "********* DECRYPTION *********\n",
            "\n",
            "\n",
            "Cipher text:  CBREUIYYESCRT\n",
            "Plain text:  cybersecurity\n"
          ]
        }
      ]
    },
    {
      "cell_type": "code",
      "source": [
        "encrypt_and_decrypt(\"distributed denial service attack\", \"191IT207_IT352_P4_Output_TC6.txt\")"
      ],
      "metadata": {
        "colab": {
          "base_uri": "https://localhost:8080/"
        },
        "id": "-lv-kXuE4LAq",
        "outputId": "6525e470-3d9f-42a8-cfbf-2b25c307d813"
      },
      "execution_count": 42,
      "outputs": [
        {
          "output_type": "stream",
          "name": "stdout",
          "text": [
            "********* ENCRYPTION *********\n",
            "\n",
            "\n",
            "Plain text:  distributed denial service attack\n",
            "Cipher text:  DSRBTDEILEVCATCITIUEDNASRIETAK\n",
            "\n",
            "\n",
            "********* DECRYPTION *********\n",
            "\n",
            "\n",
            "Cipher text:  DSRBTDEILEVCATCITIUEDNASRIETAK\n",
            "Plain text:  distributeddenialserviceattack\n"
          ]
        }
      ]
    },
    {
      "cell_type": "code",
      "source": [
        ""
      ],
      "metadata": {
        "id": "7xIBhGBm4Qd4"
      },
      "execution_count": null,
      "outputs": []
    }
  ]
}