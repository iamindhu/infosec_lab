{
  "nbformat": 4,
  "nbformat_minor": 0,
  "metadata": {
    "colab": {
      "name": "191IT207_IT352_ProgramFile.ipynb",
      "provenance": []
    },
    "kernelspec": {
      "name": "python3",
      "display_name": "Python 3"
    },
    "language_info": {
      "name": "python"
    }
  },
  "cells": [
    {
      "cell_type": "code",
      "execution_count": 7,
      "metadata": {
        "id": "qfsa2LO3DrKK"
      },
      "outputs": [],
      "source": [
        "import csv\n",
        "import numpy as np\n",
        "import hashlib\n",
        "from datetime import datetime"
      ]
    },
    {
      "cell_type": "markdown",
      "source": [
        "# Reading CSV File and preprocessing"
      ],
      "metadata": {
        "id": "C1Q8llL8M7fY"
      }
    },
    {
      "cell_type": "code",
      "source": [
        "file = open('phish_score.csv')\n",
        "csvreader = csv.reader(file)\n",
        "urls = []\n",
        "for url in csvreader:\n",
        "        urls.append(url)\n",
        "file.close()"
      ],
      "metadata": {
        "id": "18VgUZLjD4RN"
      },
      "execution_count": 4,
      "outputs": []
    },
    {
      "cell_type": "code",
      "source": [
        "url_database = np.array(urls)\n",
        "url_database = np.delete(url_database, 1, 1)\n",
        "url_database = url_database.reshape(-1)"
      ],
      "metadata": {
        "id": "nz5adINzEpFa"
      },
      "execution_count": 5,
      "outputs": []
    },
    {
      "cell_type": "markdown",
      "source": [
        "# Creating url database"
      ],
      "metadata": {
        "id": "4y1pb0ZyN2B1"
      }
    },
    {
      "cell_type": "code",
      "source": [
        "txtfile = open('191IT207_IT352 _signature_URL_database.txt',\"w\")\n",
        "first = datetime.now()\n",
        "for url in url_database:\n",
        "  result = hashlib.md5(url.encode())\n",
        "  txtfile.write(result.hexdigest()+'\\n')\n",
        "txtfile.close()\n",
        "second = datetime.now()\n",
        "print(\"Time taken to generate signature database: {time} seconds\".format(time=(second-first).total_seconds()))"
      ],
      "metadata": {
        "id": "uPDIY3d8M7eR",
        "colab": {
          "base_uri": "https://localhost:8080/"
        },
        "outputId": "06d4b219-2cce-4373-8b3e-85a86f853239"
      },
      "execution_count": 9,
      "outputs": [
        {
          "output_type": "stream",
          "name": "stdout",
          "text": [
            "Time taken to generate signature database: 0.437698 seconds\n"
          ]
        }
      ]
    },
    {
      "cell_type": "markdown",
      "source": [
        "# Function to check if URL is in database"
      ],
      "metadata": {
        "id": "vobbasibPXgJ"
      }
    },
    {
      "cell_type": "code",
      "source": [
        "def check(test_case_url):\n",
        "  result = hashlib.md5(test_case_url.encode())\n",
        "  textfile = open('191IT207_IT352_signature_URL_database.txt','r')\n",
        "  flag=0\n",
        "  for line in textfile:\n",
        "    if result.hexdigest() in line:\n",
        "      flag=1 \n",
        "      break\n",
        "  txtfile.close()\n",
        "  if flag == 0:\n",
        "    print(\"URL does not exist\")\n",
        "  else:\n",
        "    print(test_case_url)\n",
        "    print(result.hexdigest())\n",
        "    print(\"URL exists\")\n",
        "  return flag, result.hexdigest()"
      ],
      "metadata": {
        "id": "3c5PJp0dPDSS"
      },
      "execution_count": 36,
      "outputs": []
    },
    {
      "cell_type": "code",
      "source": [
        "sample_test_cases = np.array(['twitter.com', 'instagram.com', 'linkedin.com', 'microsoft.com', 'apple.com'])"
      ],
      "metadata": {
        "id": "8OFkE-ItMsg2"
      },
      "execution_count": 37,
      "outputs": []
    },
    {
      "cell_type": "code",
      "source": [
        "for url in sample_test_cases:\n",
        "  check(url)"
      ],
      "metadata": {
        "colab": {
          "base_uri": "https://localhost:8080/"
        },
        "id": "15MQyXP-NTzh",
        "outputId": "3e0c3018-0443-4733-89d9-66d22fd1171b"
      },
      "execution_count": 46,
      "outputs": [
        {
          "output_type": "stream",
          "name": "stdout",
          "text": [
            "URL does not exist\n",
            "URL does not exist\n",
            "URL does not exist\n",
            "URL does not exist\n",
            "URL does not exist\n"
          ]
        }
      ]
    },
    {
      "cell_type": "code",
      "source": [
        "flag, signature = check(url_database[0])\n",
        "txtfile = open('191IT207_IT352_output1.txt',\"w\")\n",
        "if flag == 0:\n",
        "  txtfile.write(\"URL does not exist\")\n",
        "else:\n",
        "  txtfile.write(url_database[0]+'\\n')\n",
        "  txtfile.write(signature+'\\n')\n",
        "  txtfile.write(\"URL exists\"+'\\n')\n",
        "txtfile.close()"
      ],
      "metadata": {
        "colab": {
          "base_uri": "https://localhost:8080/"
        },
        "id": "ovudxyKvj0iZ",
        "outputId": "f2d77b42-32c7-4d4a-ddb5-977881f3f3db"
      },
      "execution_count": 70,
      "outputs": [
        {
          "output_type": "stream",
          "name": "stdout",
          "text": [
            "http://usuariobisavali.hostfree.pw/?i=1\n",
            "e0da59e85c3106854c1eeb2cc78653f0\n",
            "URL exists\n"
          ]
        }
      ]
    },
    {
      "cell_type": "markdown",
      "source": [
        "# Test cases"
      ],
      "metadata": {
        "id": "enkv-7Amjw4r"
      }
    },
    {
      "cell_type": "code",
      "source": [
        "flag, signature = check(\"www.elsevier.com\")\n",
        "txtfile = open('191IT207_IT352_output1.txt',\"w\")\n",
        "if flag == 0:\n",
        "  txtfile.write(\"URL does not exist\")\n",
        "else:\n",
        "  txtfile.write(\"www.elsevier.com\"+'\\n')\n",
        "  txtfile.write(signature+'\\n')\n",
        "  txtfile.write(\"URL exists\"+'\\n')\n",
        "txtfile.close()"
      ],
      "metadata": {
        "colab": {
          "base_uri": "https://localhost:8080/"
        },
        "id": "NMmzzNmPP33J",
        "outputId": "49508bef-8518-41f7-f0d2-fc8e1d4ba2d3"
      },
      "execution_count": 63,
      "outputs": [
        {
          "output_type": "stream",
          "name": "stdout",
          "text": [
            "URL does not exist\n"
          ]
        }
      ]
    },
    {
      "cell_type": "code",
      "source": [
        "flag, signature  = check(\"https://www.iitb.ac.in/\")\n",
        "txtfile = open('191IT207_IT352_output2.txt',\"w\")\n",
        "if flag == 0:\n",
        "  txtfile.write(\"URL does not exist\")\n",
        "else:\n",
        "  txtfile.write(\"https://www.iitb.ac.in/\"+'\\n')\n",
        "  txtfile.write(signature+'\\n')\n",
        "  txtfile.write(\"URL exists\"+'\\n')\n",
        "txtfile.close()"
      ],
      "metadata": {
        "colab": {
          "base_uri": "https://localhost:8080/"
        },
        "id": "KH2npdzkZDT0",
        "outputId": "e6876c77-b8fb-454a-ad2d-b249026c9c41"
      },
      "execution_count": 64,
      "outputs": [
        {
          "output_type": "stream",
          "name": "stdout",
          "text": [
            "URL does not exist\n"
          ]
        }
      ]
    },
    {
      "cell_type": "code",
      "source": [
        "flag, signature = check(\"https://www.nitk.ac.in/\")\n",
        "txtfile = open('191IT207_IT352_output3.txt',\"w\")\n",
        "if flag == 0:\n",
        "  txtfile.write(\"URL does not exist\")  \n",
        "else:\n",
        "  txtfile.write(\"https://www.nitk.ac.in/\"+'\\n')\n",
        "  txtfile.write(signature+'\\n')\n",
        "  txtfile.write(\"URL exists\"+'\\n')\n",
        "txtfile.close()"
      ],
      "metadata": {
        "colab": {
          "base_uri": "https://localhost:8080/"
        },
        "id": "kQGDEBfBZIRv",
        "outputId": "75beaf7d-9f9d-44f7-cf26-cfb8ad054ae7"
      },
      "execution_count": 65,
      "outputs": [
        {
          "output_type": "stream",
          "name": "stdout",
          "text": [
            "URL does not exist\n"
          ]
        }
      ]
    },
    {
      "cell_type": "code",
      "source": [
        "flag, signature = check(\"https://iitd.ac.in/\")\n",
        "txtfile = open('191IT207_IT352_output4.txt',\"w\")\n",
        "if flag == 0:\n",
        "  txtfile.write(\"URL does not exist\")\n",
        "else:\n",
        "  txtfile.write(\"https://iitd.ac.in/\"+'\\n')\n",
        "  txtfile.write(signature+'\\n')\n",
        "  txtfile.write(\"URL exists\"+'\\n')\n",
        "txtfile.close()"
      ],
      "metadata": {
        "colab": {
          "base_uri": "https://localhost:8080/"
        },
        "id": "7BdDiyg_ZK7h",
        "outputId": "84cefc3e-03ee-4bf9-9d9c-00292ce08311"
      },
      "execution_count": 66,
      "outputs": [
        {
          "output_type": "stream",
          "name": "stdout",
          "text": [
            "URL does not exist\n"
          ]
        }
      ]
    },
    {
      "cell_type": "code",
      "source": [
        "flag, signature  = check(\"www.ibm.org\")\n",
        "txtfile = open('191IT207_IT352_output5.txt',\"w\")\n",
        "if flag == 0:\n",
        "  txtfile.write(\"URL does not exist\")\n",
        "else:\n",
        "  txtfile.write(\"www.ibm.org\"+'\\n')\n",
        "  txtfile.write(signature+'\\n')\n",
        "  txtfile.write(\"URL exists\"+'\\n')\n",
        "txtfile.close()"
      ],
      "metadata": {
        "colab": {
          "base_uri": "https://localhost:8080/"
        },
        "id": "uY3ckxklZMwX",
        "outputId": "98a2c0ff-2d40-4ecb-b1ae-bcb96acdf3bd"
      },
      "execution_count": 67,
      "outputs": [
        {
          "output_type": "stream",
          "name": "stdout",
          "text": [
            "URL does not exist\n"
          ]
        }
      ]
    }
  ]
}