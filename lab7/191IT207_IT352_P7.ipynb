{
  "nbformat": 4,
  "nbformat_minor": 0,
  "metadata": {
    "colab": {
      "name": "191IT207_IT352_P7.ipynb",
      "provenance": []
    },
    "kernelspec": {
      "name": "python3",
      "display_name": "Python 3"
    },
    "language_info": {
      "name": "python"
    }
  },
  "cells": [
    {
      "cell_type": "code",
      "source": [
        "import os \n",
        "import hashlib\n",
        "import hmac"
      ],
      "metadata": {
        "id": "kEdTnvPbyo5K"
      },
      "execution_count": 1,
      "outputs": []
    },
    {
      "cell_type": "code",
      "execution_count": 2,
      "metadata": {
        "id": "rPoiSwdmwJqX"
      },
      "outputs": [],
      "source": [
        "LABEL = \"LABEL\""
      ]
    },
    {
      "cell_type": "code",
      "source": [
        "def randomByteNumGenerator(size):\n",
        "  result = os.urandom(size) \n",
        "  return int.from_bytes(result, \"big\")"
      ],
      "metadata": {
        "id": "KY86yaK7yeWV"
      },
      "execution_count": 3,
      "outputs": []
    },
    {
      "cell_type": "code",
      "source": [
        "def divideSecret(secret):\n",
        "  length = len(secret)\n",
        "  f = int(length/2)\n",
        "  first_half = secret[0:f]\n",
        "  second_half = secret[f:]\n",
        "  return first_half, second_half"
      ],
      "metadata": {
        "id": "5p1YB88A0KSR"
      },
      "execution_count": 4,
      "outputs": []
    },
    {
      "cell_type": "code",
      "source": [
        "def concatSeedAndLabel(seed):\n",
        "  return LABEL + str(seed)"
      ],
      "metadata": {
        "id": "IhbRPDYVGAyn"
      },
      "execution_count": 5,
      "outputs": []
    },
    {
      "cell_type": "code",
      "source": [
        "def md5_algo(label_seed, first_half):\n",
        "  update_bytes = bytes(label_seed, 'utf-8')\n",
        "  password = bytes(first_half, 'utf-8')\n",
        "  my_hmac = hmac.new(update_bytes, password, hashlib.md5)\n",
        "  my_hmac_cpy = my_hmac.copy()\n",
        "  expanded_secret_md5 = str(my_hmac_cpy.digest())\n",
        "  return my_hmac_cpy.digest()"
      ],
      "metadata": {
        "id": "1-a_2OrkKj7E"
      },
      "execution_count": 6,
      "outputs": []
    },
    {
      "cell_type": "code",
      "source": [
        "def sha1_algo(label_seed, second_half):\n",
        "  update_bytes = bytes(label_seed, 'utf-8')\n",
        "  password = bytes(second_half, 'utf-8')\n",
        "  my_sha1 = hmac.new(update_bytes, password, hashlib.sha1)\n",
        "  my_sha1_cpy = my_sha1.copy()\n",
        "  expanded_secret_sha1 = str(my_sha1_cpy.digest())\n",
        "  return my_sha1_cpy.digest()\n",
        "  print(int.from_bytes(my_sha1_cpy.digest(), \"big\"))\n",
        "  print(type(my_sha1_cpy.digest()))\n",
        "  return expanded_secret_sha1"
      ],
      "metadata": {
        "id": "Ht3TvEaJKz6-"
      },
      "execution_count": 7,
      "outputs": []
    },
    {
      "cell_type": "code",
      "source": [
        "def byte_xor(ba1, ba2):\n",
        "    return bytes([_a ^ _b for _a, _b in zip(ba1, ba2)])"
      ],
      "metadata": {
        "id": "aZKu8Ps4UmuL"
      },
      "execution_count": 8,
      "outputs": []
    },
    {
      "cell_type": "code",
      "source": [
        "def allOps(secret, outFileName):\n",
        "  txtfile = open(outFileName,\"w\")\n",
        "  seed = randomByteNumGenerator(32)\n",
        "  first_half, second_half = divideSecret(str(secret))\n",
        "  label_seed = concatSeedAndLabel(seed)\n",
        "  md5_bytes = md5_algo(label_seed, first_half)\n",
        "  sha1_bytes = sha1_algo(label_seed, second_half)\n",
        "  new_secret_bytes = byte_xor(md5_bytes, sha1_bytes)\n",
        "  new_secret = int.from_bytes(new_secret_bytes, \"big\")\n",
        "  print(\"New secret is = \" + str(new_secret))\n",
        "  txtfile.write(\"New Secret is = \")\n",
        "  txtfile.write(str(new_secret))"
      ],
      "metadata": {
        "id": "sBxlgLW3OOaU"
      },
      "execution_count": 14,
      "outputs": []
    },
    {
      "cell_type": "markdown",
      "source": [
        "# Sample Testcases"
      ],
      "metadata": {
        "id": "qLRXgCerexd1"
      }
    },
    {
      "cell_type": "code",
      "source": [
        "allOps(123456789123456789, \"191IT207_IT352_P7_SampleOutput_TC1.txt\")"
      ],
      "metadata": {
        "colab": {
          "base_uri": "https://localhost:8080/"
        },
        "id": "opowpslKPxiH",
        "outputId": "2a0cc4ec-6db7-44c8-9b38-57023a8ed71a"
      },
      "execution_count": 15,
      "outputs": [
        {
          "output_type": "stream",
          "name": "stdout",
          "text": [
            "New secret is = 266922459595445579616779019208437409323\n"
          ]
        }
      ]
    },
    {
      "cell_type": "code",
      "source": [
        "allOps(987654321987654321, \"191IT207_IT352_P7_SampleOutput_TC2.txt\")"
      ],
      "metadata": {
        "colab": {
          "base_uri": "https://localhost:8080/"
        },
        "id": "n68PqWV3QoWm",
        "outputId": "b37208fe-1f19-4522-d85a-0ac39b6d58bb"
      },
      "execution_count": 16,
      "outputs": [
        {
          "output_type": "stream",
          "name": "stdout",
          "text": [
            "New secret is = 78879967215468174201325801915636263004\n"
          ]
        }
      ]
    },
    {
      "cell_type": "markdown",
      "source": [
        "# Text Cases"
      ],
      "metadata": {
        "id": "PQlVVEASe1PE"
      }
    },
    {
      "cell_type": "code",
      "source": [
        "allOps(, \"191IT207_IT352_P7_Output_TC1.txt\")"
      ],
      "metadata": {
        "id": "_pEIyszoQ42p"
      },
      "execution_count": null,
      "outputs": []
    },
    {
      "cell_type": "code",
      "source": [
        "allOps(, \"191IT207_IT352_P7_Output_TC2.txt\")"
      ],
      "metadata": {
        "id": "XjofHcM4S3Tx"
      },
      "execution_count": null,
      "outputs": []
    },
    {
      "cell_type": "code",
      "source": [
        "allOps(, \"191IT207_IT352_P7_Output_TC3.txt\")"
      ],
      "metadata": {
        "id": "MFTr01yVS4or"
      },
      "execution_count": null,
      "outputs": []
    },
    {
      "cell_type": "code",
      "source": [
        "allOps(, \"191IT207_IT352_P7_Output_TC4.txt\")"
      ],
      "metadata": {
        "id": "ghxbcoScS9RT"
      },
      "execution_count": null,
      "outputs": []
    },
    {
      "cell_type": "code",
      "source": [
        "allOps(, \"191IT207_IT352_P7_Output_TC5.txt\")"
      ],
      "metadata": {
        "id": "K1CVU1YIS9rV"
      },
      "execution_count": null,
      "outputs": []
    },
    {
      "cell_type": "code",
      "source": [
        "allOps(, \"191IT207_IT352_P7_Output_TC6.txt\")"
      ],
      "metadata": {
        "id": "YFRCCLmcS-NL"
      },
      "execution_count": null,
      "outputs": []
    }
  ]
}