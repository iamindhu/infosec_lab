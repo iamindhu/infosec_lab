{
  "nbformat": 4,
  "nbformat_minor": 0,
  "metadata": {
    "colab": {
      "name": "191IT207_IT352_P9.ipynb",
      "provenance": []
    },
    "kernelspec": {
      "name": "python3",
      "display_name": "Python 3"
    },
    "language_info": {
      "name": "python"
    }
  },
  "cells": [
    {
      "cell_type": "code",
      "source": [
        "def modInverse(a, m):\n",
        "    m0 = m\n",
        "    y = 0\n",
        "    x = 1\n",
        "    if (m == 1):\n",
        "        return 0\n",
        "    while (a > 1):\n",
        "        # q is quotient\n",
        "        q = a // m\n",
        "        t = m\n",
        "        # m is remainder now, process\n",
        "        # same as Euclid's algo\n",
        "        m = a % m\n",
        "        a = t\n",
        "        t = y\n",
        "        # Update x and y\n",
        "        y = x - q * y\n",
        "        x = t\n",
        " \n",
        "    # Make x positive\n",
        "    if (x < 0):\n",
        "        x = x + m0\n",
        " \n",
        "    return x"
      ],
      "metadata": {
        "id": "WSteNJgkYgqL"
      },
      "execution_count": 7,
      "outputs": []
    },
    {
      "cell_type": "code",
      "source": [
        "def modular_exponentiation(x, y, p) :\n",
        "    res = 1    \n",
        "    x = x % p\n",
        "     \n",
        "    if (x == 0) :\n",
        "        return 0\n",
        " \n",
        "    while (y > 0) :\n",
        "        if ((y & 1) == 1) :\n",
        "            res = (res * x) % p\n",
        " \n",
        "        # y must be even now\n",
        "        y = y >> 1      # y = y/2\n",
        "        x = (x * x) % p\n",
        "         \n",
        "    return res"
      ],
      "metadata": {
        "id": "QzHAMf3MlgAu"
      },
      "execution_count": 8,
      "outputs": []
    },
    {
      "cell_type": "code",
      "source": [
        "def calculate_e2(e1, d, p):\n",
        "  return modular_exponentiation(e1, d, p)"
      ],
      "metadata": {
        "id": "u2_GXMRHEeGt"
      },
      "execution_count": 9,
      "outputs": []
    },
    {
      "cell_type": "code",
      "execution_count": 10,
      "metadata": {
        "id": "vsQsyQV3AeJY"
      },
      "outputs": [],
      "source": [
        "def calculate_S1(e1, r, p):\n",
        "  return modular_exponentiation(e1, r, p)\n",
        "  return (e1**r)%p"
      ]
    },
    {
      "cell_type": "code",
      "source": [
        "def convert_to_num(M):\n",
        "  s = \"\"\n",
        "  for ch in M:\n",
        "    if(ch != \" \"):\n",
        "      s += str(ord(ch) - ord('A')).zfill(2)\n",
        "    else:\n",
        "      s += str(26)\n",
        "  return int(s)"
      ],
      "metadata": {
        "id": "zcwKBMV4Bi5j"
      },
      "execution_count": 26,
      "outputs": []
    },
    {
      "cell_type": "code",
      "source": [
        "convert_to_num(\"SWEET MANGO FRUIT\")"
      ],
      "metadata": {
        "colab": {
          "base_uri": "https://localhost:8080/"
        },
        "id": "je7_sI8WCLNv",
        "outputId": "9669992c-6f64-44b2-871e-4c49b43e8e96"
      },
      "execution_count": 12,
      "outputs": [
        {
          "output_type": "execute_result",
          "data": {
            "text/plain": [
              "1822441926120136142651720819"
            ]
          },
          "metadata": {},
          "execution_count": 12
        }
      ]
    },
    {
      "cell_type": "code",
      "source": [
        "def calculate_S2(M, d, S1, r, p):\n",
        "  x1 = (M - d*S1) % (p-1)\n",
        "  x2 = modInverse(r, p-1)\n",
        "  x3 = (x1*x2) % (p-1)\n",
        "  return x3"
      ],
      "metadata": {
        "id": "mTi6bVllBCt8"
      },
      "execution_count": 60,
      "outputs": []
    },
    {
      "cell_type": "code",
      "source": [
        "def calculate_V1(e2, S1, S2, p):\n",
        "  return (modular_exponentiation(e2, S1, p) * modular_exponentiation(S1, S2, p)) % p\n",
        "  # return ((e2**S1) * (S1 ** S2)) % p"
      ],
      "metadata": {
        "id": "GehonRGvDAkQ"
      },
      "execution_count": 14,
      "outputs": []
    },
    {
      "cell_type": "code",
      "source": [
        "def calculate_V2(e1, M, p):\n",
        "  return modular_exponentiation(e1, M, p) % p\n",
        "  # return (e1**M) % p"
      ],
      "metadata": {
        "id": "54ST7i7CDmfz"
      },
      "execution_count": 15,
      "outputs": []
    },
    {
      "cell_type": "code",
      "source": [
        "def create_S1_and_S2_and_V1_and_V2(e1, p, d, r, M_str):\n",
        "  M_str = M_str.upper()\n",
        "  M = convert_to_num(M_str)\n",
        "  e2 = calculate_e2(e1, d, p)\n",
        "  S1 = calculate_S1(e1, r, p)\n",
        "  S2 = calculate_S2(M, d, S1, r, p)\n",
        "  V1 = calculate_V1(e2, S1, S2, p)\n",
        "  V2 = calculate_V2(e1, M, p)\n",
        "  return str(S1), str(S2), str(V1), str(V2), str(e2)"
      ],
      "metadata": {
        "id": "mirDtIRfDvEU"
      },
      "execution_count": 43,
      "outputs": []
    },
    {
      "cell_type": "code",
      "source": [
        "def pipeline(e1, p, d, r, M_str, outFileName):\n",
        "  txtfile = open(outFileName,\"w\")\n",
        "  S1, S2, V1, V2, e2 = create_S1_and_S2_and_V1_and_V2(e1, p, d, r, M_str)\n",
        "  print(\"ElGamal digital signature creation\")\n",
        "  txtfile.write(\"ElGamal digital signature creation \\n\")\n",
        "  print(\"Message = \" + M_str)\n",
        "  txtfile.write(\"Message = \" + M_str + \"\\n\")\n",
        "  print(\"e2 = \" + e2)\n",
        "  txtfile.write(\"e2 = \" + e2 + \"\\n\")\n",
        "  print(\"S1 = \" + S1)\n",
        "  txtfile.write(\"S1 = \" + S1 + \"\\n\")\n",
        "  print(\"S2 = \" + S2)\n",
        "  txtfile.write(\"S2 = \" + S2 + \"\\n\")\n",
        "  print(\"Message and Digital Siganture pair = {\" + M_str + \" , ( \" + S1 + \" , \" + S2 + \") \" + \"}\")\n",
        "  txtfile.write(\"Message and Digital Siganture pair = {\" + M_str + \" , ( \" + S1 + \" , \" + S2 + \") \" + \"}\\n\")\n",
        "  print(\"Verification of digital signature: \")\n",
        "  txtfile.write(\"Verification of digital signature: \\n\")\n",
        "  print(\"V1 = \" + V1)\n",
        "  txtfile.write(\"V1 = \" + V1 + \"\\n\")\n",
        "  print(\"V2 = \" + V2)\n",
        "  txtfile.write(\"V2 = \" + V2 + \"\\n\")\n",
        "  if(V1 == V2):\n",
        "    print(\"Signature Verified\")\n",
        "    txtfile.write(\"Signature Verified\")\n",
        "  else:\n",
        "    print(\"Signature could not be verified\")\n",
        "    txtfile.write(\"Signature could not be verified\")"
      ],
      "metadata": {
        "id": "KibrWZ7mzQy4"
      },
      "execution_count": 53,
      "outputs": []
    },
    {
      "cell_type": "code",
      "source": [
        "pipeline(2, 3119, 127, 5, \"Sweet Mango Fruit\", \"191IT207_IT352_P9_Output_TC1.txt\")"
      ],
      "metadata": {
        "id": "zgpv11GAL406",
        "colab": {
          "base_uri": "https://localhost:8080/"
        },
        "outputId": "80bf70be-2da1-48a0-eb70-931e2e50e9e6"
      },
      "execution_count": 61,
      "outputs": [
        {
          "output_type": "stream",
          "name": "stdout",
          "text": [
            "ElGamal digital signature creation\n",
            "Message = Sweet Mango Fruit\n",
            "e2 = 1702\n",
            "S1 = 32\n",
            "S2 = 845\n",
            "Message and Digital Siganture pair = {Sweet Mango Fruit , ( 32 , 845) }\n",
            "Verification of digital signature: \n",
            "V1 = 980\n",
            "V2 = 980\n",
            "Signature Verified\n"
          ]
        }
      ]
    },
    {
      "cell_type": "code",
      "source": [
        "pipeline(2, 3119, 127, 7, \"Apple Orange Mango Grapes\", \"191IT207_IT352_P9_Output_TC2.txt\")\n"
      ],
      "metadata": {
        "colab": {
          "base_uri": "https://localhost:8080/"
        },
        "id": "RmXctsiqwwd4",
        "outputId": "68c6cc24-a176-4a6c-8a1a-905c3d141bf4"
      },
      "execution_count": 62,
      "outputs": [
        {
          "output_type": "stream",
          "name": "stdout",
          "text": [
            "ElGamal digital signature creation\n",
            "Message = Apple Orange Mango Grapes\n",
            "e2 = 1702\n",
            "S1 = 128\n",
            "S2 = 216\n",
            "Message and Digital Siganture pair = {Apple Orange Mango Grapes , ( 128 , 216) }\n",
            "Verification of digital signature: \n",
            "V1 = 2163\n",
            "V2 = 2163\n",
            "Signature Verified\n"
          ]
        }
      ]
    },
    {
      "cell_type": "code",
      "source": [
        "pipeline(2, 3119, 127, 11, \"Security is hard to achieve\", \"191IT207_IT352_P9_Output_TC3.txt\")"
      ],
      "metadata": {
        "colab": {
          "base_uri": "https://localhost:8080/"
        },
        "id": "33pBFr6Dxo-B",
        "outputId": "cd20d6aa-3999-4ac0-db98-fde726c928ea"
      },
      "execution_count": 63,
      "outputs": [
        {
          "output_type": "stream",
          "name": "stdout",
          "text": [
            "ElGamal digital signature creation\n",
            "Message = Security is hard to achieve\n",
            "e2 = 1702\n",
            "S1 = 2048\n",
            "S2 = 2776\n",
            "Message and Digital Siganture pair = {Security is hard to achieve , ( 2048 , 2776) }\n",
            "Verification of digital signature: \n",
            "V1 = 2817\n",
            "V2 = 2817\n",
            "Signature Verified\n"
          ]
        }
      ]
    },
    {
      "cell_type": "code",
      "source": [
        "pipeline(2, 3119, 127, 13, \"No online examination\", \"191IT207_IT352_P9_Output_TC4.txt\")"
      ],
      "metadata": {
        "colab": {
          "base_uri": "https://localhost:8080/"
        },
        "id": "ol0jQv5Ryl_e",
        "outputId": "09010f8e-8201-4ce8-e797-1f7458fb7842"
      },
      "execution_count": 64,
      "outputs": [
        {
          "output_type": "stream",
          "name": "stdout",
          "text": [
            "ElGamal digital signature creation\n",
            "Message = No online examination\n",
            "e2 = 1702\n",
            "S1 = 1954\n",
            "S2 = 697\n",
            "Message and Digital Siganture pair = {No online examination , ( 1954 , 697) }\n",
            "Verification of digital signature: \n",
            "V1 = 843\n",
            "V2 = 843\n",
            "Signature Verified\n"
          ]
        }
      ]
    },
    {
      "cell_type": "code",
      "source": [
        "pipeline(2, 3119, 127, 13, \"Offline classes started from March\", \"191IT207_IT352_P9_Output_TC5.txt\")"
      ],
      "metadata": {
        "colab": {
          "base_uri": "https://localhost:8080/"
        },
        "id": "waBTeY7lytKN",
        "outputId": "4748a57f-b99f-4f9a-dbac-5ea1ef5e7680"
      },
      "execution_count": 65,
      "outputs": [
        {
          "output_type": "stream",
          "name": "stdout",
          "text": [
            "ElGamal digital signature creation\n",
            "Message = Offline classes started from March\n",
            "e2 = 1702\n",
            "S1 = 1954\n",
            "S2 = 2665\n",
            "Message and Digital Siganture pair = {Offline classes started from March , ( 1954 , 2665) }\n",
            "Verification of digital signature: \n",
            "V1 = 598\n",
            "V2 = 598\n",
            "Signature Verified\n"
          ]
        }
      ]
    },
    {
      "cell_type": "code",
      "source": [
        "pipeline(2, 3119, 127, 15, \"No online end semester exam\", \"191IT207_IT352_P9_Output_TC6.txt\")"
      ],
      "metadata": {
        "colab": {
          "base_uri": "https://localhost:8080/"
        },
        "id": "gCP7VA-2y6gm",
        "outputId": "7e488455-0091-4452-c2e0-d6a184ec283a"
      },
      "execution_count": 66,
      "outputs": [
        {
          "output_type": "stream",
          "name": "stdout",
          "text": [
            "ElGamal digital signature creation\n",
            "Message = No online end semester exam\n",
            "e2 = 1702\n",
            "S1 = 1578\n",
            "S2 = 1282\n",
            "Message and Digital Siganture pair = {No online end semester exam , ( 1578 , 1282) }\n",
            "Verification of digital signature: \n",
            "V1 = 696\n",
            "V2 = 696\n",
            "Signature Verified\n"
          ]
        }
      ]
    },
    {
      "cell_type": "code",
      "source": [
        ""
      ],
      "metadata": {
        "id": "JIO-oo5g32b0"
      },
      "execution_count": null,
      "outputs": []
    }
  ]
}