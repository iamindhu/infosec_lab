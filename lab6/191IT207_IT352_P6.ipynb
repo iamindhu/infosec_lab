{
  "nbformat": 4,
  "nbformat_minor": 0,
  "metadata": {
    "colab": {
      "name": "191IT207_IT352_P6.ipynb",
      "provenance": [],
      "collapsed_sections": []
    },
    "kernelspec": {
      "name": "python3",
      "display_name": "Python 3"
    },
    "language_info": {
      "name": "python"
    }
  },
  "cells": [
    {
      "cell_type": "code",
      "source": [
        "import numpy as np\n",
        "import math"
      ],
      "metadata": {
        "id": "0yiegPUy7lac"
      },
      "execution_count": 119,
      "outputs": []
    },
    {
      "cell_type": "code",
      "source": [
        "def charToAscii(plaintext): # converts string to array of ascii values\n",
        "  ascii = []\n",
        "  for char in plaintext:\n",
        "    ascii.append(ord(char))\n",
        "  return np.array(ascii)"
      ],
      "metadata": {
        "id": "Rfmwdjd4EOwA"
      },
      "execution_count": 50,
      "outputs": []
    },
    {
      "cell_type": "code",
      "source": [
        "def asciiToChar(arr): # converts array of ascii values to string\n",
        "  string = \"\"\n",
        "  for a in arr:\n",
        "    string = string + chr(a)\n",
        "  return string"
      ],
      "metadata": {
        "id": "4Eqt6SV2Yxlw"
      },
      "execution_count": 174,
      "outputs": []
    },
    {
      "cell_type": "code",
      "source": [
        "def addPadding(plaintext_ascii): # adds required padding -> padding done by adding 0s in the plain text\n",
        "  l = len(plaintext_ascii)\n",
        "  for i in range((4 - l%4)%4):\n",
        "    plaintext_ascii = np.append(plaintext_ascii, 48)\n",
        "  return plaintext_ascii"
      ],
      "metadata": {
        "id": "Nmiho1m7El9F"
      },
      "execution_count": 175,
      "outputs": []
    },
    {
      "cell_type": "code",
      "source": [
        "def inputKey():\n",
        "  return np.array([[2, 3], [4, 5]])"
      ],
      "metadata": {
        "id": "sGYdVGACGXlz"
      },
      "execution_count": 176,
      "outputs": []
    },
    {
      "cell_type": "code",
      "source": [
        "def inputIV():\n",
        "    return np.array([[4, 5], [7, 8]])"
      ],
      "metadata": {
        "id": "bL3tOFdMQysd"
      },
      "execution_count": 177,
      "outputs": []
    },
    {
      "cell_type": "code",
      "source": [
        "def checkInverse(matrix, modVal): # checks if inverse of matrix exists\n",
        "  if math.gcd(matrix[0][0]*matrix[1][1] - matrix[0][1]*matrix[1][0], modVal) == 1:\n",
        "    return True\n",
        "  else:\n",
        "    return False"
      ],
      "metadata": {
        "id": "mD6SqaHcohQ0"
      },
      "execution_count": 178,
      "outputs": []
    },
    {
      "cell_type": "code",
      "source": [
        "def modulo(k, matrix): # modulo operation 255\n",
        "  return matrix%k"
      ],
      "metadata": {
        "id": "tRGjft3zKLLD"
      },
      "execution_count": 179,
      "outputs": []
    },
    {
      "cell_type": "code",
      "source": [
        "def encryption(key, P, modVal): # hill cipher encryption\n",
        "  return modulo(modVal, np.dot(key, P))"
      ],
      "metadata": {
        "id": "QjuoLOe6Hr4q"
      },
      "execution_count": 180,
      "outputs": []
    },
    {
      "cell_type": "code",
      "source": [
        "def preprocessPlainText(plaintext): # remove spaces\n",
        "  return plaintext.replace(\" \", \"\")"
      ],
      "metadata": {
        "id": "kY6YzkgRWtIv"
      },
      "execution_count": 181,
      "outputs": []
    },
    {
      "cell_type": "code",
      "source": [
        "def plainTextToBlocks(processedPlainText, modVal): # converts preprocessed plain text to 2X2 blocks of ascii values\n",
        "  asciiPaddedArray = addPadding(charToAscii(processedPlainText))\n",
        "  i = 0\n",
        "  plainTextBlocks = []\n",
        "  while i < len(asciiPaddedArray):\n",
        "    P = [[asciiPaddedArray[i], asciiPaddedArray[i+1]], [asciiPaddedArray[i+2], asciiPaddedArray[i+3]]]\n",
        "    i += 4\n",
        "    plainTextBlocks.append(P)\n",
        "  return np.array(plainTextBlocks)"
      ],
      "metadata": {
        "id": "mezFdw7YIX0c"
      },
      "execution_count": 182,
      "outputs": []
    },
    {
      "cell_type": "code",
      "source": [
        "def blocksToPlainText(blocks): # converts 2X2 blocks of ascii values to text\n",
        "  encryptedArray = []\n",
        "  for block in blocks:\n",
        "    encryptedArray.append(block[0][0])\n",
        "    encryptedArray.append(block[0][1])\n",
        "    encryptedArray.append(block[1][0])\n",
        "    encryptedArray.append(block[1][1])\n",
        "  textArray = np.array(encryptedArray)\n",
        "  text = asciiToChar(textArray)\n",
        "  return text"
      ],
      "metadata": {
        "id": "gyENbZjzXZX8"
      },
      "execution_count": 183,
      "outputs": []
    },
    {
      "cell_type": "code",
      "source": [
        "def cipherFeedbackModeEncrypt(plainTextBlocks, IV, key, modVal): # encryption in cipher feedback mode\n",
        "  T = encryption(key, IV, modVal)\n",
        "  C = np.bitwise_xor(T, plainTextBlocks[0])\n",
        "  encryptedBlocks = []\n",
        "  encryptedBlocks.append(C)\n",
        "  for i in range(1, len(plainTextBlocks)):\n",
        "    T = encryption(key, C, modVal)\n",
        "    C = np.bitwise_xor(T, plainTextBlocks[i])\n",
        "    encryptedBlocks.append(C)\n",
        "  return np.array(encryptedBlocks)"
      ],
      "metadata": {
        "id": "rkQT9IoCO5oS"
      },
      "execution_count": 184,
      "outputs": []
    },
    {
      "cell_type": "code",
      "source": [
        "def cipherFeedbackModeDecrypt(encryptedBlocks, IV, key, modVal): # decryption in cipher feedback mode\n",
        "  i = len(encryptedBlocks) - 1\n",
        "  decryptedTextBlocks = []\n",
        "  while i > 0:\n",
        "    T = encryption(key, encryptedBlocks[i-1], modVal)\n",
        "    P = np.bitwise_xor(T, encryptedBlocks[i])\n",
        "    decryptedTextBlocks.append(P)\n",
        "    i -= 1\n",
        "  T = encryption(key, IV, modVal)\n",
        "  P = np.bitwise_xor(T, encryptedBlocks[0])\n",
        "  decryptedTextBlocks.append(P)\n",
        "  decryptedTextBlocks = np.flipud(decryptedTextBlocks)\n",
        "  return np.array(decryptedTextBlocks)"
      ],
      "metadata": {
        "id": "SetJTl5aRJCd"
      },
      "execution_count": 185,
      "outputs": []
    },
    {
      "cell_type": "code",
      "source": [
        "def allOperations(plainText, key, IV, modVal, filename): # main function that performs all required operations\n",
        "  txtfile = open(filename,\"w\")\n",
        "  preprocessedText = preprocessPlainText(plainText)\n",
        "  print(charToAscii(preprocessedText))\n",
        "  txtfile.write(str(charToAscii(preprocessedText)))\n",
        "  txtfile.write(\"\\n\")\n",
        "  if checkInverse(key, modVal) == False:\n",
        "    print(\"Key-inverse does not exist\")\n",
        "    txtfile.write(\"Key-inverse does not exist\")\n",
        "    txtfile.write(\"\\n\")\n",
        "    return\n",
        "  print(\"Plaintext: \", str(plainText))\n",
        "  txtfile.write(\"Plaintext: \" + str(plainText))\n",
        "  txtfile.write(\"\\n\")\n",
        "  plainTextBlocks= plainTextToBlocks(preprocessedText, modVal)\n",
        "  encryptedBlocks = cipherFeedbackModeEncrypt(plainTextBlocks, IV, key, modVal)\n",
        "  encryptedText = blocksToPlainText(encryptedBlocks)\n",
        "  print(\"Encrypted text: \", encryptedText)\n",
        "  txtfile.write(\"Encrypted text: \" + encryptedText)\n",
        "  txtfile.write(\"\\n\")\n",
        "  decryptedBlocks = cipherFeedbackModeDecrypt(encryptedBlocks, IV, key, modVal)\n",
        "  decryptedText = blocksToPlainText(decryptedBlocks)\n",
        "  print(\"Decrypted text: \", decryptedText)\n",
        "  txtfile.write(\"Decrypted text: \" + decryptedText)\n",
        "  txtfile.write(\"\\n\")"
      ],
      "metadata": {
        "id": "-FRAVoP-lFxr"
      },
      "execution_count": 186,
      "outputs": []
    },
    {
      "cell_type": "code",
      "source": [
        "allOperations(\"Phishing\", np.array([[2, 3], [4, 5]]), np.array([[4, 5], [7, 8]]), 256, \"191IT207_IT352_P6_Sample_Output_TC1.txt\")"
      ],
      "metadata": {
        "colab": {
          "base_uri": "https://localhost:8080/"
        },
        "id": "0h14DbsvpVOB",
        "outputId": "71f3bddf-080e-42b4-83ab-8b27b590f88f"
      },
      "execution_count": 187,
      "outputs": [
        {
          "output_type": "stream",
          "name": "stdout",
          "text": [
            "[ 80 104 105 115 104 105 110 103]\n",
            "Key-inverse does not exist\n"
          ]
        }
      ]
    },
    {
      "cell_type": "code",
      "source": [
        "allOperations(\"SBINITKS\", np.array([[3, 3], [4, 4]]), np.array([[3, 8], [3, 7]]), 256, \"191IT207_IT352_P6_Sample_Output_TC2.txt\")"
      ],
      "metadata": {
        "colab": {
          "base_uri": "https://localhost:8080/"
        },
        "id": "FhgurQ7Bp6Ir",
        "outputId": "66fd3cb8-92b4-4ff6-c0f1-6792abc75f36"
      },
      "execution_count": 188,
      "outputs": [
        {
          "output_type": "stream",
          "name": "stdout",
          "text": [
            "[83 66 73 78 73 84 75 83]\n",
            "Key-inverse does not exist\n"
          ]
        }
      ]
    },
    {
      "cell_type": "code",
      "source": [
        "allOperations(\"decrease\", np.array([[14, 13], [14, 15]]), np.array([[14, 5], [5, 8]]), 256, \"191IT207_IT352_P6_Output_TC1.txt\")"
      ],
      "metadata": {
        "colab": {
          "base_uri": "https://localhost:8080/"
        },
        "id": "uvlKwgPqoR9F",
        "outputId": "003d495a-c0af-4d7a-c049-995c61b62031"
      },
      "execution_count": 189,
      "outputs": [
        {
          "output_type": "stream",
          "name": "stdout",
          "text": [
            "[100 101  99 114 101  97 115 101]\n",
            "Key-inverse does not exist\n"
          ]
        }
      ]
    },
    {
      "cell_type": "code",
      "source": [
        "allOperations(\"delicate\", np.array([[13, 12], [14, 15]]), np.array([[13, 18], [18, 17]]), 256, \"191IT207_IT352_P6_Output_TC2.txt\")"
      ],
      "metadata": {
        "colab": {
          "base_uri": "https://localhost:8080/"
        },
        "id": "CQngytOzolLU",
        "outputId": "1e3768c8-f6ce-4ac7-8704-54812521dafa"
      },
      "execution_count": 190,
      "outputs": [
        {
          "output_type": "stream",
          "name": "stdout",
          "text": [
            "[100 101 108 105  99  97 116 101]\n",
            "Plaintext:  delicate\n",
            "Encrypted text:  eS(\u0012bn*}\n",
            "Decrypted text:  delicate\n"
          ]
        }
      ]
    },
    {
      "cell_type": "code",
      "source": [
        "allOperations(\"adequate\", np.array([[3, 2], [2, 5]]), np.array([[7, 8], [8, 7]]), 256, \"191IT207_IT352_P6_Output_TC3.txt\")"
      ],
      "metadata": {
        "colab": {
          "base_uri": "https://localhost:8080/"
        },
        "id": "Q4G-11H9pTn5",
        "outputId": "b66e0148-ace7-46d8-b83c-9bbf5937f994"
      },
      "execution_count": 191,
      "outputs": [
        {
          "output_type": "stream",
          "name": "stdout",
          "text": [
            "[ 97 100 101 113 117  97 116 101]\n",
            "Plaintext:  adequate\n",
            "Encrypted text:  DBSB\u0007+S+\n",
            "Decrypted text:  adequate\n"
          ]
        }
      ]
    },
    {
      "cell_type": "code",
      "source": [
        "allOperations(\"anything\", np.array([[15, 13], [13, 15]]), np.array([[7, 8], [7, 7]]), 256, \"191IT207_IT352_P6_Output_TC4.txt\")"
      ],
      "metadata": {
        "colab": {
          "base_uri": "https://localhost:8080/"
        },
        "id": "2SbMPCoDploa",
        "outputId": "2e3b71bd-98f1-420c-ecbd-601a40a2aae1"
      },
      "execution_count": 192,
      "outputs": [
        {
          "output_type": "stream",
          "name": "stdout",
          "text": [
            "[ 97 110 121 116 104 105 110 103]\n",
            "Key-inverse does not exist\n"
          ]
        }
      ]
    },
    {
      "cell_type": "code",
      "source": [
        "allOperations(\"efficacy\", np.array([[5, 17], [7, 15]]), np.array([[15, 6], [6, 15]]), 256, \"191IT207_IT352_P6_Output_TC5.txt\")"
      ],
      "metadata": {
        "colab": {
          "base_uri": "https://localhost:8080/"
        },
        "id": "vfSqLJO1pxvX",
        "outputId": "77f940e5-3cf8-4786-ae49-8ed223087d94"
      },
      "execution_count": 193,
      "outputs": [
        {
          "output_type": "stream",
          "name": "stdout",
          "text": [
            "[101 102 102 105  99  97  99 121]\n",
            "Key-inverse does not exist\n"
          ]
        }
      ]
    },
    {
      "cell_type": "code",
      "source": [
        "allOperations(\"earnings\", np.array([[5, 13], [3, 15]]), np.array([[17, 2], [6, 17]]), 256, \"191IT207_IT352_P6_Output_TC6.txt\")"
      ],
      "metadata": {
        "colab": {
          "base_uri": "https://localhost:8080/"
        },
        "id": "H5kbu-bXqDDq",
        "outputId": "2c2e582b-7063-41ba-8eff-053b274cdd2c"
      },
      "execution_count": 194,
      "outputs": [
        {
          "output_type": "stream",
          "name": "stdout",
          "text": [
            "[101  97 114 110 105 110 103 115]\n",
            "Key-inverse does not exist\n"
          ]
        }
      ]
    }
  ]
}